{
 "cells": [
  {
   "cell_type": "code",
   "execution_count": 16,
   "id": "27ca076a",
   "metadata": {},
   "outputs": [
    {
     "name": "stdout",
     "output_type": "stream",
     "text": [
      "500\n"
     ]
    }
   ],
   "source": [
    "add = lambda x, y: x+y\n",
    "print(add(100,400))\n",
    "\n"
   ]
  },
  {
   "cell_type": "code",
   "execution_count": 17,
   "id": "1f2c191a",
   "metadata": {},
   "outputs": [],
   "source": [
    "double = lambda x: x*2"
   ]
  },
  {
   "cell_type": "code",
   "execution_count": 18,
   "id": "effdade3",
   "metadata": {},
   "outputs": [
    {
     "data": {
      "text/plain": [
       "100"
      ]
     },
     "execution_count": 18,
     "metadata": {},
     "output_type": "execute_result"
    }
   ],
   "source": [
    "double(50)"
   ]
  },
  {
   "cell_type": "code",
   "execution_count": 19,
   "id": "856f4d92",
   "metadata": {},
   "outputs": [],
   "source": [
    "def calcSales(price):\n",
    "    if price >= 0 and price <= 500:\n",
    "        return \"0 to 500\"\n",
    "    elif price >= 501 and price <= 1000:\n",
    "        return \"501 to 1000\"\n",
    "    elif price >= 1001 and price <= 5000:\n",
    "        return \"1001 to 5000\"\n",
    "    else:\n",
    "        return \">5000\""
   ]
  },
  {
   "cell_type": "code",
   "execution_count": 29,
   "id": "c8cf863c",
   "metadata": {},
   "outputs": [],
   "source": [
    "p=lambda x:calcSales(x)"
   ]
  },
  {
   "cell_type": "code",
   "execution_count": 30,
   "id": "ad2bcae4",
   "metadata": {},
   "outputs": [
    {
     "data": {
      "text/plain": [
       "'0 to 500'"
      ]
     },
     "execution_count": 30,
     "metadata": {},
     "output_type": "execute_result"
    }
   ],
   "source": [
    "p(400)"
   ]
  },
  {
   "cell_type": "code",
   "execution_count": 1,
   "id": "2fb28408",
   "metadata": {},
   "outputs": [],
   "source": [
    "def power(n):\n",
    "    return n * n\n",
    "lst = [2,5,4,6,5,7,13,25]\n",
    "x = map(power,lst)"
   ]
  },
  {
   "cell_type": "code",
   "execution_count": 4,
   "id": "f7c844b2",
   "metadata": {},
   "outputs": [
    {
     "name": "stdout",
     "output_type": "stream",
     "text": [
      "[4, 25, 16, 36, 25, 49, 169, 625]\n"
     ]
    }
   ],
   "source": [
    "print(list(x))"
   ]
  },
  {
   "cell_type": "code",
   "execution_count": 5,
   "id": "cf4a56b1",
   "metadata": {},
   "outputs": [
    {
     "data": {
      "text/plain": [
       "[6, 10, 12, 12, 10, 6]"
      ]
     },
     "execution_count": 5,
     "metadata": {},
     "output_type": "execute_result"
    }
   ],
   "source": [
    "def multiply(n,m):\n",
    "    return n * m\n",
    "list(map(multiply,[1,2,3,4,5,6],[6,5,4,3,2,1]))"
   ]
  },
  {
   "cell_type": "code",
   "execution_count": 7,
   "id": "ee358ab5",
   "metadata": {},
   "outputs": [
    {
     "data": {
      "text/plain": [
       "[6, 10, 12, 12, 10, 6]"
      ]
     },
     "execution_count": 7,
     "metadata": {},
     "output_type": "execute_result"
    }
   ],
   "source": [
    "list(map(lambda x,y:multiply(x,y),[1,2,3,4,5,6],[6,5,4,3,2,1]))\n"
   ]
  },
  {
   "cell_type": "code",
   "execution_count": 9,
   "id": "60460b7c",
   "metadata": {},
   "outputs": [
    {
     "data": {
      "text/plain": [
       "[9, 10, 11, 12, 13, 14]"
      ]
     },
     "execution_count": 9,
     "metadata": {},
     "output_type": "execute_result"
    }
   ],
   "source": [
    "list(map(lambda x,y,z: x+y+z,[1,2,3,4,5,6],(6,5,4,3,2,1),{2,3,4,5,6,7}))\n"
   ]
  },
  {
   "cell_type": "code",
   "execution_count": 5,
   "id": "b7c77052",
   "metadata": {},
   "outputs": [
    {
     "data": {
      "text/plain": [
       "[12, 30, 36, 36, 30]"
      ]
     },
     "execution_count": 5,
     "metadata": {},
     "output_type": "execute_result"
    }
   ],
   "source": [
    "list(map(lambda x,y,z: x*y*z,[1,2,3,4,5],[6,5,4,3,2,1],(2,3,3,3,3,3,3,3,3)))"
   ]
  },
  {
   "cell_type": "code",
   "execution_count": 6,
   "id": "bfbc2307",
   "metadata": {},
   "outputs": [
    {
     "data": {
      "text/plain": [
       "{12, 30, 36}"
      ]
     },
     "execution_count": 6,
     "metadata": {},
     "output_type": "execute_result"
    }
   ],
   "source": [
    "set(map(lambda x,y,z: x*y*z,[1,2,3,4,5],[6,5,4,3,2,1],(2,3,3,3,3,3,3,3,3)))"
   ]
  },
  {
   "cell_type": "code",
   "execution_count": 13,
   "id": "7046234c",
   "metadata": {},
   "outputs": [],
   "source": [
    "def result(n):\n",
    "    if n >= 30 and n<=60:\n",
    "        return n\n",
    "\n"
   ]
  },
  {
   "cell_type": "code",
   "execution_count": 22,
   "id": "5a2f0d21",
   "metadata": {},
   "outputs": [
    {
     "data": {
      "text/plain": [
       "[45, 39, 50, 42, 48, 53, 45, 51, 60, 59]"
      ]
     },
     "execution_count": 22,
     "metadata": {},
     "output_type": "execute_result"
    }
   ],
   "source": [
    "import random\n",
    "numbers = [random.randint(10,100) for i in range(20)]\n",
    "list(filter(result, numbers))"
   ]
  },
  {
   "cell_type": "code",
   "execution_count": 7,
   "id": "13d6aedf",
   "metadata": {},
   "outputs": [
    {
     "data": {
      "text/plain": [
       "(56, 36, 31, 46, 53, 47, 34, 47)"
      ]
     },
     "execution_count": 7,
     "metadata": {},
     "output_type": "execute_result"
    }
   ],
   "source": [
    "lst = (56, 36, 31, 46,\"\",False,0,53, 47, 34, 47)\n",
    "tuple(filter(None,lst))"
   ]
  },
  {
   "cell_type": "code",
   "execution_count": 16,
   "id": "b0d7abae",
   "metadata": {},
   "outputs": [
    {
     "name": "stdout",
     "output_type": "stream",
     "text": [
      "['study', 'automatically', 'experience']\n"
     ]
    }
   ],
   "source": [
    "st = \"Machine learning (ML) is the study of computer algorithms that improve automatically through experience\"\n",
    "print(list(filter(lambda x: \"x\" in x or \"y\" in x, st.split())))"
   ]
  },
  {
   "cell_type": "code",
   "execution_count": 17,
   "id": "3ff6b926",
   "metadata": {},
   "outputs": [
    {
     "data": {
      "text/plain": [
       "92"
      ]
     },
     "execution_count": 17,
     "metadata": {},
     "output_type": "execute_result"
    }
   ],
   "source": [
    "from functools import reduce\n",
    "reduce(lambda a,b:a+b,[20,22,25,25])"
   ]
  },
  {
   "cell_type": "code",
   "execution_count": null,
   "id": "527b119a",
   "metadata": {},
   "outputs": [],
   "source": [
    "Example: 20, 22, 25, 25\n",
    " -- 20 + 22 -- 42\n",
    " -- 42 + 25 -- 67\n",
    " -- 67 + 25 -- 92"
   ]
  },
  {
   "cell_type": "code",
   "execution_count": 29,
   "id": "31b3803d",
   "metadata": {},
   "outputs": [
    {
     "data": {
      "text/plain": [
       "[240, 100, 112]"
      ]
     },
     "execution_count": 29,
     "metadata": {},
     "output_type": "execute_result"
    }
   ],
   "source": [
    "numbers = [5,7,9,10,120,30,40,50,34,56] \n",
    "list(filter(lambda x: x>=100,map(lambda x: x + x,numbers)))\n"
   ]
  },
  {
   "cell_type": "code",
   "execution_count": 34,
   "id": "056862ec",
   "metadata": {},
   "outputs": [
    {
     "data": {
      "text/plain": [
       "328"
      ]
     },
     "execution_count": 34,
     "metadata": {},
     "output_type": "execute_result"
    }
   ],
   "source": [
    "reduce(lambda x,y:x+y,map(lambda x: x+x,filter(lambda x:x>=10 and x<=50,numbers)))"
   ]
  },
  {
   "cell_type": "code",
   "execution_count": 31,
   "id": "d9aab26a",
   "metadata": {},
   "outputs": [
    {
     "data": {
      "text/plain": [
       "[10, 30, 40, 50, 34]"
      ]
     },
     "execution_count": 31,
     "metadata": {},
     "output_type": "execute_result"
    }
   ],
   "source": [
    "list(filter(lambda x:x>=10 and x<=50,numbers))"
   ]
  },
  {
   "cell_type": "code",
   "execution_count": 32,
   "id": "755587b9",
   "metadata": {},
   "outputs": [
    {
     "data": {
      "text/plain": [
       "[20, 60, 80, 100, 68]"
      ]
     },
     "execution_count": 32,
     "metadata": {},
     "output_type": "execute_result"
    }
   ],
   "source": [
    "list(map(lambda x: x+x,[10, 30, 40, 50, 34]))"
   ]
  },
  {
   "cell_type": "code",
   "execution_count": 33,
   "id": "18f589aa",
   "metadata": {},
   "outputs": [
    {
     "data": {
      "text/plain": [
       "328"
      ]
     },
     "execution_count": 33,
     "metadata": {},
     "output_type": "execute_result"
    }
   ],
   "source": [
    "reduce(lambda x,y:x+y,[20, 60, 80, 100, 68])"
   ]
  },
  {
   "cell_type": "code",
   "execution_count": null,
   "id": "53e18caa",
   "metadata": {},
   "outputs": [],
   "source": []
  }
 ],
 "metadata": {
  "kernelspec": {
   "display_name": "Python 3 (ipykernel)",
   "language": "python",
   "name": "python3"
  },
  "language_info": {
   "codemirror_mode": {
    "name": "ipython",
    "version": 3
   },
   "file_extension": ".py",
   "mimetype": "text/x-python",
   "name": "python",
   "nbconvert_exporter": "python",
   "pygments_lexer": "ipython3",
   "version": "3.9.5"
  }
 },
 "nbformat": 4,
 "nbformat_minor": 5
}
